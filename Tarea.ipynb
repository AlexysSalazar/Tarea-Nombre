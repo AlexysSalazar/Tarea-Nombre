{
  "nbformat": 4,
  "nbformat_minor": 0,
  "metadata": {
    "colab": {
      "name": "Tarea.ipynb",
      "provenance": []
    },
    "kernelspec": {
      "name": "python3",
      "display_name": "Python 3"
    },
    "language_info": {
      "name": "python"
    }
  },
  "cells": [
    {
      "cell_type": "code",
      "metadata": {
        "id": "lSokKJVHy4QE"
      },
      "source": [
        "print(\"      A    \\n    A   A \\n   AAAAAAA \\n  A       A\\n A         A\\n\\n L\\n L\\n L\\n L\\n LLLLL\\n\\n EEEEEE\\n E\\n EEE\\n E\\n EEEEEE\\n\\n  X     X\\n   X  X\\n    X\\n   X  X\\n X      X\\n\\n Y     Y\\n  Y   Y\\n    Y\\n    Y\\n    Y\\n\\n SSSSSSS\\nS\\n SSSSSSS\\n        S\\n SSSSSSS\")"
      ],
      "execution_count": null,
      "outputs": []
    }
  ]
}